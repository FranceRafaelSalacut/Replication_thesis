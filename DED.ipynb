{
 "cells": [
  {
   "cell_type": "code",
   "execution_count": 38,
   "metadata": {},
   "outputs": [],
   "source": [
    "#!pip install numpy pandas matplotlib scikit-learn tensorflow keras opencv-python scikit-image  "
   ]
  },
  {
   "cell_type": "code",
   "execution_count": 39,
   "metadata": {},
   "outputs": [
    {
     "data": {
      "text/plain": [
       "'\\nsources\\n\\nhttps://stackoverflow.com/questions/21061814/how-can-i-read-an-image-from-an-internet-url-in-python-cv2-scikit-image-and-mah\\nhttps://stackoverflow.com/questions/22081209/find-the-root-of-the-git-repository-where-the-file-lives\\nhttps://pandas.pydata.org/docs/reference/api/pandas.DataFrame.transpose.html\\nhttps://www.geeksforgeeks.org/python-change-column-names-and-row-indexes-in-pandas-dataframe/\\n\\n\\n'"
      ]
     },
     "execution_count": 39,
     "metadata": {},
     "output_type": "execute_result"
    }
   ],
   "source": [
    "'''\n",
    "sources\n",
    "\n",
    "https://stackoverflow.com/questions/21061814/how-can-i-read-an-image-from-an-internet-url-in-python-cv2-scikit-image-and-mah\n",
    "https://stackoverflow.com/questions/22081209/find-the-root-of-the-git-repository-where-the-file-lives\n",
    "https://pandas.pydata.org/docs/reference/api/pandas.DataFrame.transpose.html\n",
    "https://www.geeksforgeeks.org/python-change-column-names-and-row-indexes-in-pandas-dataframe/\n",
    "\n",
    "\n",
    "'''"
   ]
  },
  {
   "cell_type": "code",
   "execution_count": 40,
   "metadata": {},
   "outputs": [],
   "source": [
    "import os\n",
    "import numpy as np\n",
    "import pandas as pd\n",
    "import cv2\n",
    "import matplotlib.pyplot as plt\n",
    "from sklearn.model_selection import train_test_split\n",
    "import requests\n",
    "from PIL import Image\n",
    "from io import BytesIO\n",
    "import matplotlib.pyplot as plt\n",
    "import urllib\n",
    "from skimage import io\n",
    "from tqdm import tqdm\n",
    "\n",
    "def convert_image_url_into_numpy_array(url):\n",
    "    img = io.imread(url)\n",
    "    return img\n",
    "\n",
    "\n",
    "directory = {}\n",
    "repo_url = \"https://api.github.com/repos/yiweichen04/retina_dataset/contents\"\n",
    "token = ''\n",
    "headers = {'Authorization': f'token {token}'}\n",
    "\n",
    "Url = 'https://github.com/yiweichen04/retina_dataset/blob/master/dataset/1_normal/NL_001.png?raw=true'\n",
    "\n",
    "image = convert_image_url_into_numpy_array(Url)"
   ]
  },
  {
   "cell_type": "code",
   "execution_count": 41,
   "metadata": {},
   "outputs": [],
   "source": [
    "def fetch_contents(url, direct, level=0, headers=None):\n",
    "    temp = []\n",
    "    response = requests.get(url, headers=headers)\n",
    "    contents = response.json()\n",
    "\n",
    "    if response.status_code != 200:\n",
    "        print(f\"Error: {response.status_code}\")\n",
    "        return\n",
    "\n",
    "    for item in contents:\n",
    "        #print(' ' * level * 2 + item['name'])\n",
    "        if item['type'] == 'dir':\n",
    "            direct[item['name']] = {}\n",
    "            fetch_contents(item['url'], direct[item['name']], level + 1, headers)\n",
    "        else:\n",
    "            temp.append(item['name'])\n",
    "    \n",
    "    if temp:\n",
    "        direct['contents'] = temp     "
   ]
  },
  {
   "cell_type": "code",
   "execution_count": 42,
   "metadata": {},
   "outputs": [],
   "source": [
    "fetch_contents(repo_url, directory, headers=headers)"
   ]
  },
  {
   "cell_type": "code",
   "execution_count": 43,
   "metadata": {},
   "outputs": [
    {
     "data": {
      "text/html": [
       "<div>\n",
       "<style scoped>\n",
       "    .dataframe tbody tr th:only-of-type {\n",
       "        vertical-align: middle;\n",
       "    }\n",
       "\n",
       "    .dataframe tbody tr th {\n",
       "        vertical-align: top;\n",
       "    }\n",
       "\n",
       "    .dataframe thead th {\n",
       "        text-align: right;\n",
       "    }\n",
       "</style>\n",
       "<table border=\"1\" class=\"dataframe\">\n",
       "  <thead>\n",
       "    <tr style=\"text-align: right;\">\n",
       "      <th></th>\n",
       "      <th>1_normal</th>\n",
       "      <th>2_cataract</th>\n",
       "      <th>2_glaucoma</th>\n",
       "      <th>3_retina_disease</th>\n",
       "    </tr>\n",
       "  </thead>\n",
       "  <tbody>\n",
       "    <tr>\n",
       "      <th>0</th>\n",
       "      <td>NL_001.png</td>\n",
       "      <td>cataract_001.png</td>\n",
       "      <td>Glaucoma_001.png</td>\n",
       "      <td>Retina_001.png</td>\n",
       "    </tr>\n",
       "    <tr>\n",
       "      <th>1</th>\n",
       "      <td>NL_002.png</td>\n",
       "      <td>cataract_002.png</td>\n",
       "      <td>Glaucoma_002.png</td>\n",
       "      <td>Retina_002.png</td>\n",
       "    </tr>\n",
       "    <tr>\n",
       "      <th>2</th>\n",
       "      <td>NL_003.png</td>\n",
       "      <td>cataract_003.png</td>\n",
       "      <td>Glaucoma_003.png</td>\n",
       "      <td>Retina_003.png</td>\n",
       "    </tr>\n",
       "    <tr>\n",
       "      <th>3</th>\n",
       "      <td>NL_004.png</td>\n",
       "      <td>cataract_004.png</td>\n",
       "      <td>Glaucoma_004.png</td>\n",
       "      <td>Retina_004.png</td>\n",
       "    </tr>\n",
       "    <tr>\n",
       "      <th>4</th>\n",
       "      <td>NL_005.png</td>\n",
       "      <td>cataract_005.png</td>\n",
       "      <td>Glaucoma_005.png</td>\n",
       "      <td>Retina_005.png</td>\n",
       "    </tr>\n",
       "  </tbody>\n",
       "</table>\n",
       "</div>"
      ],
      "text/plain": [
       "     1_normal        2_cataract        2_glaucoma 3_retina_disease\n",
       "0  NL_001.png  cataract_001.png  Glaucoma_001.png   Retina_001.png\n",
       "1  NL_002.png  cataract_002.png  Glaucoma_002.png   Retina_002.png\n",
       "2  NL_003.png  cataract_003.png  Glaucoma_003.png   Retina_003.png\n",
       "3  NL_004.png  cataract_004.png  Glaucoma_004.png   Retina_004.png\n",
       "4  NL_005.png  cataract_005.png  Glaucoma_005.png   Retina_005.png"
      ]
     },
     "execution_count": 43,
     "metadata": {},
     "output_type": "execute_result"
    }
   ],
   "source": [
    "dataset = [directory['dataset'][x]['contents'] for x in directory['dataset'].keys()]\n",
    "\n",
    "dataset = pd.DataFrame(dataset, index=(directory['dataset'].keys()))\n",
    "dataset = dataset.transpose()\n",
    "dataset.head(5)\n"
   ]
  },
  {
   "cell_type": "code",
   "execution_count": 44,
   "metadata": {},
   "outputs": [],
   "source": [
    "def convert_filename_to_link(column, name):\n",
    "    if name != 'None':\n",
    "        link =  f'https://github.com/yiweichen04/retina_dataset/blob/master/dataset/{column}/{name}?raw=true'\n",
    "        return convert_image_url_into_numpy_array(link)\n",
    "    "
   ]
  },
  {
   "cell_type": "code",
   "execution_count": 55,
   "metadata": {},
   "outputs": [],
   "source": [
    "#for column in dataset.columns:\n",
    "        #dataset[column] = dataset[column].apply(lambda x: convert_filename_to_link(column, x))\n",
    "        #dataset[column] = [convert_filename_to_link(column, x) for x in tqdm(dataset[column])]\n",
    "\n",
    "display(dataset.to_string())"
   ]
  }
 ],
 "metadata": {
  "kernelspec": {
   "display_name": "Python 3",
   "language": "python",
   "name": "python3"
  },
  "language_info": {
   "codemirror_mode": {
    "name": "ipython",
    "version": 3
   },
   "file_extension": ".py",
   "mimetype": "text/x-python",
   "name": "python",
   "nbconvert_exporter": "python",
   "pygments_lexer": "ipython3",
   "version": "3.11.4"
  }
 },
 "nbformat": 4,
 "nbformat_minor": 2
}
