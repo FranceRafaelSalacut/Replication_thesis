{
 "cells": [
  {
   "cell_type": "code",
   "execution_count": 140,
   "metadata": {},
   "outputs": [],
   "source": [
    "import requests\n",
    "\n",
    "\n",
    "directory = {}\n",
    "url = \"https://api.github.com/repos/yiweichen04/retina_dataset/contents\"\n",
    "token = ''\n",
    "headers = {'Authorization': f'token {token}'}"
   ]
  },
  {
   "cell_type": "code",
   "execution_count": 141,
   "metadata": {},
   "outputs": [],
   "source": [
    "def fetch_contents(url, direct, level=0, headers=None):\n",
    "    temp = []\n",
    "    response = requests.get(url, headers=headers)\n",
    "    contents = response.json()\n",
    "\n",
    "    if response.status_code != 200:\n",
    "        print(f\"Error: {response.status_code}\")\n",
    "        return\n",
    "\n",
    "    for item in contents:\n",
    "        #print(' ' * level * 2 + item['name'])\n",
    "        if item['type'] == 'dir':\n",
    "            direct[item['name']] = {}\n",
    "            fetch_contents(item['url'], direct[item['name']], level + 1, headers)\n",
    "        else:\n",
    "            temp.append(item['name'])\n",
    "    \n",
    "    if temp:\n",
    "        direct['contents'] = temp        "
   ]
  },
  {
   "cell_type": "code",
   "execution_count": 142,
   "metadata": {},
   "outputs": [],
   "source": [
    "fetch_contents(url, directory, headers=headers)\n"
   ]
  },
  {
   "cell_type": "code",
   "execution_count": 148,
   "metadata": {},
   "outputs": [
    {
     "data": {
      "text/plain": [
       "dict_keys(['1_normal', '2_cataract', '2_glaucoma', '3_retina_disease'])"
      ]
     },
     "execution_count": 148,
     "metadata": {},
     "output_type": "execute_result"
    }
   ],
   "source": [
    "directory['dataset'].keys()"
   ]
  }
 ],
 "metadata": {
  "kernelspec": {
   "display_name": "Python 3",
   "language": "python",
   "name": "python3"
  },
  "language_info": {
   "codemirror_mode": {
    "name": "ipython",
    "version": 3
   },
   "file_extension": ".py",
   "mimetype": "text/x-python",
   "name": "python",
   "nbconvert_exporter": "python",
   "pygments_lexer": "ipython3",
   "version": "3.11.4"
  }
 },
 "nbformat": 4,
 "nbformat_minor": 2
}
